{
 "cells": [
  {
   "cell_type": "code",
   "execution_count": 1,
   "metadata": {},
   "outputs": [
    {
     "name": "stdout",
     "output_type": "stream",
     "text": [
      "Tue Dec  7 22:37:18 2021\n",
      "oui\n",
      "Tue Dec  7 22:37:28 2021\n",
      "Tue Dec  7 22:37:38 2021\n",
      "Tue Dec  7 22:37:48 2021\n"
     ]
    }
   ],
   "source": [
    "import time, threading\n",
    "def foo():\n",
    "    print(time.ctime())\n",
    "    threading.Timer(10, foo).start()\n",
    "\n",
    "foo()\n",
    "print(\"oui\")"
   ]
  },
  {
   "cell_type": "code",
   "execution_count": null,
   "metadata": {},
   "outputs": [],
   "source": []
  }
 ],
 "metadata": {
  "kernelspec": {
   "display_name": "Python 3",
   "language": "python",
   "name": "python3"
  },
  "language_info": {
   "codemirror_mode": {
    "name": "ipython",
    "version": 3
   },
   "file_extension": ".py",
   "mimetype": "text/x-python",
   "name": "python",
   "nbconvert_exporter": "python",
   "pygments_lexer": "ipython3",
   "version": "3.7.8"
  }
 },
 "nbformat": 4,
 "nbformat_minor": 2
}
